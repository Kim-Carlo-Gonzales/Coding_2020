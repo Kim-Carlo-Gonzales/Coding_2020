{
 "cells": [
  {
   "cell_type": "markdown",
   "metadata": {},
   "source": [
    "# Set Theory"
   ]
  },
  {
   "cell_type": "markdown",
   "metadata": {},
   "source": [
    "Coded and submitted by: <br>\n",
    "<i>Gonzales, Kim Carlo M.<br>\n",
    "    201911014 <br>"
   ]
  },
  {
   "cell_type": "markdown",
   "metadata": {},
   "source": [
    "This code activity will try to guide you in applying the concepts, methods, and rules of Set Theory through code. We will go through with the data types in which Set Theory can be applied, how to write them in equation form im $\\LaTeX$, and then we will try to look at a practical example through a user's requirement."
   ]
  },
  {
   "cell_type": "markdown",
   "metadata": {},
   "source": [
    "### Lists"
   ]
  },
  {
   "cell_type": "markdown",
   "metadata": {},
   "source": [
    "In Python,  the most common iterable collection are lists. In lists, elements are ordered and chageable. Lists are denoted by enclosing objects with square brackets $[ ... ]$. Lists can be accessed through their indices, negative indexing is permitted."
   ]
  },
  {
   "cell_type": "code",
   "execution_count": 7,
   "metadata": {},
   "outputs": [],
   "source": [
    "### Declaration\n",
    "employees = ['John', 'Alex', 'Winston', 'Bob', 'Golbi'] ## Best practice when making a list of objects, list variable names should be in plural form "
   ]
  },
  {
   "cell_type": "code",
   "execution_count": 9,
   "metadata": {},
   "outputs": [
    {
     "data": {
      "text/plain": [
       "'Bob'"
      ]
     },
     "execution_count": 9,
     "metadata": {},
     "output_type": "execute_result"
    }
   ],
   "source": [
    "### Single Access\n",
    "employees[-2]"
   ]
  },
  {
   "cell_type": "code",
   "execution_count": 11,
   "metadata": {},
   "outputs": [
    {
     "data": {
      "text/plain": [
       "['Golbi', 'Bob', 'Winston', 'Alex', 'John']"
      ]
     },
     "execution_count": 11,
     "metadata": {},
     "output_type": "execute_result"
    }
   ],
   "source": [
    "### Multiple Access\n",
    "employees[::-1]"
   ]
  },
  {
   "cell_type": "code",
   "execution_count": 13,
   "metadata": {},
   "outputs": [
    {
     "name": "stdout",
     "output_type": "stream",
     "text": [
      "Hi  John\n",
      "Hi  Alex\n",
      "Hi  Winston\n",
      "Hi  Bob\n",
      "Hi  Golbi\n"
     ]
    }
   ],
   "source": [
    "### Multiple Access via Loops\n",
    "for employee in employees: ## To make coding a bit more intuitive, we use the singular form of the list variable name to denote its elements.\n",
    "    print(\"Hi \",employee)"
   ]
  },
  {
   "cell_type": "code",
   "execution_count": 15,
   "metadata": {},
   "outputs": [
    {
     "name": "stdout",
     "output_type": "stream",
     "text": [
      "John\n",
      "Winston\n",
      "Golbi\n"
     ]
    }
   ],
   "source": [
    "### Multiple Access via Loops\n",
    "\n",
    "for i in range(len(employees)): ## You could also use indices for iterations.\n",
    "    if(i%2 == 0):\n",
    "        print(employees[i])"
   ]
  },
  {
   "cell_type": "code",
   "execution_count": 17,
   "metadata": {},
   "outputs": [
    {
     "name": "stdout",
     "output_type": "stream",
     "text": [
      "['John', 'Alex', 'Winston', 'John', 'Jimmy']\n"
     ]
    }
   ],
   "source": [
    "### Modifying Elements\n",
    "employees[3] = 'John'\n",
    "employees[-1] = 'Jimmy'\n",
    "print(employees)"
   ]
  },
  {
   "cell_type": "code",
   "execution_count": 19,
   "metadata": {},
   "outputs": [
    {
     "name": "stdout",
     "output_type": "stream",
     "text": [
      "['John', 'Alex', 'Ozai', 'Winston', 'John', 'Jimmy']\n"
     ]
    }
   ],
   "source": [
    "### Adding Elements\n",
    "# employees.append(\"Elfaba\")\n",
    "\n",
    "employees.insert(2, \"Ozai\")\n",
    "print(employees)"
   ]
  },
  {
   "cell_type": "code",
   "execution_count": 21,
   "metadata": {},
   "outputs": [
    {
     "data": {
      "text/plain": [
       "[]"
      ]
     },
     "execution_count": 21,
     "metadata": {},
     "output_type": "execute_result"
    }
   ],
   "source": [
    "### Removing Elements\n",
    "# employees.pop() \n",
    "\n",
    "# employees.remove(\"Ozai\")\n",
    "\n",
    "# del employees[-1]\n",
    "\n",
    "employees.clear()\n",
    "employees"
   ]
  },
  {
   "cell_type": "markdown",
   "metadata": {},
   "source": [
    "### Tuples"
   ]
  },
  {
   "cell_type": "markdown",
   "metadata": {},
   "source": [
    "Tuples are another collection data type in Python. There are several key differences between lists and tuples:\n",
    "- Tuples are ordered collections, so order cannot be rearranged or modified.\n",
    "- Since tuples are ordered collections $(a, b) \\neq (b, a)$\n",
    "- They are declared and denoted using parentheses $( ...)$"
   ]
  },
  {
   "cell_type": "code",
   "execution_count": 23,
   "metadata": {},
   "outputs": [],
   "source": [
    "### Declaration\n",
    "pix1_colors = (255, 0 , 0)  ## In image processing, this is called a tuple consisting of channels. \n",
    "                            ##It is structured as (Red, Green, Blue) such that the values in each channe; ranges from 0 - 255 \n",
    "pix2_colors = (64, 128, 111)"
   ]
  },
  {
   "cell_type": "code",
   "execution_count": 25,
   "metadata": {},
   "outputs": [
    {
     "data": {
      "text/plain": [
       "128"
      ]
     },
     "execution_count": 25,
     "metadata": {},
     "output_type": "execute_result"
    }
   ],
   "source": [
    "### Single Access\n",
    "green = pix2_colors[1]\n",
    "green"
   ]
  },
  {
   "cell_type": "code",
   "execution_count": 27,
   "metadata": {},
   "outputs": [
    {
     "ename": "TypeError",
     "evalue": "'tuple' object does not support item assignment",
     "output_type": "error",
     "traceback": [
      "\u001b[1;31m---------------------------------------------------------------------------\u001b[0m",
      "\u001b[1;31mTypeError\u001b[0m                                 Traceback (most recent call last)",
      "\u001b[1;32m<ipython-input-27-92279de707a4>\u001b[0m in \u001b[0;36m<module>\u001b[1;34m\u001b[0m\n\u001b[1;32m----> 1\u001b[1;33m \u001b[0mpix1_colors\u001b[0m\u001b[1;33m[\u001b[0m\u001b[1;36m2\u001b[0m\u001b[1;33m]\u001b[0m \u001b[1;33m=\u001b[0m \u001b[1;36m128\u001b[0m\u001b[1;33m\u001b[0m\u001b[1;33m\u001b[0m\u001b[0m\n\u001b[0m",
      "\u001b[1;31mTypeError\u001b[0m: 'tuple' object does not support item assignment"
     ]
    }
   ],
   "source": [
    "pix1_colors[2] = 128"
   ]
  },
  {
   "cell_type": "code",
   "execution_count": 29,
   "metadata": {},
   "outputs": [
    {
     "data": {
      "text/plain": [
       "(64, 111)"
      ]
     },
     "execution_count": 29,
     "metadata": {},
     "output_type": "execute_result"
    }
   ],
   "source": [
    "### Multiple Access\n",
    "pix2_colors[::2]"
   ]
  },
  {
   "cell_type": "code",
   "execution_count": 31,
   "metadata": {},
   "outputs": [
    {
     "name": "stdout",
     "output_type": "stream",
     "text": [
      "64\n",
      "128\n",
      "111\n"
     ]
    }
   ],
   "source": [
    "### Multiple Access via Loops\n",
    "for color in pix2_colors:\n",
    "    print(color)"
   ]
  },
  {
   "cell_type": "code",
   "execution_count": 33,
   "metadata": {},
   "outputs": [
    {
     "name": "stdout",
     "output_type": "stream",
     "text": [
      "Coordinates of cars in ordered pair form: (3, 0)\n",
      "Coordinates of cars in ordered pair form: (5, 1)\n",
      "Coordinates of cars in ordered pair form: (12, 5)\n",
      "Coordinates of cars in ordered pair form: (15, 2)\n"
     ]
    }
   ],
   "source": [
    "car_xpos = (3, 5, 12, 15)\n",
    "car_ypos = (0, 1, 5, 2)\n",
    "### Multiple Access via Parallel Iteration\n",
    "for pos in zip(car_xpos, car_ypos):\n",
    "    print(f'Coordinates of cars in ordered pair form: {pos}')"
   ]
  },
  {
   "cell_type": "code",
   "execution_count": 35,
   "metadata": {},
   "outputs": [
    {
     "name": "stdout",
     "output_type": "stream",
     "text": [
      "(255, 64)\n",
      "(0, 128)\n",
      "(0, 111)\n"
     ]
    }
   ],
   "source": [
    "for px_colors in zip(pix1_colors, pix2_colors):\n",
    "    print(px_colors)"
   ]
  },
  {
   "cell_type": "code",
   "execution_count": 38,
   "metadata": {},
   "outputs": [
    {
     "ename": "TypeError",
     "evalue": "'tuple' object does not support item assignment",
     "output_type": "error",
     "traceback": [
      "\u001b[1;31m---------------------------------------------------------------------------\u001b[0m",
      "\u001b[1;31mTypeError\u001b[0m                                 Traceback (most recent call last)",
      "\u001b[1;32m<ipython-input-38-9e3d25433a12>\u001b[0m in \u001b[0;36m<module>\u001b[1;34m\u001b[0m\n\u001b[0;32m      1\u001b[0m \u001b[1;31m### Modifying Elements\u001b[0m\u001b[1;33m\u001b[0m\u001b[1;33m\u001b[0m\u001b[1;33m\u001b[0m\u001b[0m\n\u001b[0;32m      2\u001b[0m \u001b[1;33m\u001b[0m\u001b[0m\n\u001b[1;32m----> 3\u001b[1;33m \u001b[0mcar_xpos\u001b[0m\u001b[1;33m[\u001b[0m\u001b[1;36m0\u001b[0m\u001b[1;33m]\u001b[0m \u001b[1;33m=\u001b[0m \u001b[1;36m0\u001b[0m\u001b[1;33m\u001b[0m\u001b[1;33m\u001b[0m\u001b[0m\n\u001b[0m",
      "\u001b[1;31mTypeError\u001b[0m: 'tuple' object does not support item assignment"
     ]
    }
   ],
   "source": [
    "### Modifying Elements\n",
    "\n",
    "car_xpos[0] = 0\n"
   ]
  },
  {
   "cell_type": "code",
   "execution_count": 46,
   "metadata": {},
   "outputs": [
    {
     "ename": "TypeError",
     "evalue": "'tuple' object doesn't support item deletion",
     "output_type": "error",
     "traceback": [
      "\u001b[1;31m---------------------------------------------------------------------------\u001b[0m",
      "\u001b[1;31mTypeError\u001b[0m                                 Traceback (most recent call last)",
      "\u001b[1;32m<ipython-input-46-531563a974fc>\u001b[0m in \u001b[0;36m<module>\u001b[1;34m\u001b[0m\n\u001b[0;32m      1\u001b[0m \u001b[1;31m### Removing Elements\u001b[0m\u001b[1;33m\u001b[0m\u001b[1;33m\u001b[0m\u001b[1;33m\u001b[0m\u001b[0m\n\u001b[0;32m      2\u001b[0m \u001b[1;33m\u001b[0m\u001b[0m\n\u001b[1;32m----> 3\u001b[1;33m \u001b[1;32mdel\u001b[0m \u001b[0mpix1_colors\u001b[0m\u001b[1;33m[\u001b[0m\u001b[1;36m0\u001b[0m\u001b[1;33m]\u001b[0m\u001b[1;33m\u001b[0m\u001b[1;33m\u001b[0m\u001b[0m\n\u001b[0m",
      "\u001b[1;31mTypeError\u001b[0m: 'tuple' object doesn't support item deletion"
     ]
    }
   ],
   "source": [
    "### Removing Elements\n",
    "\n",
    "del pix1_colors[0]\n"
   ]
  },
  {
   "cell_type": "code",
   "execution_count": 48,
   "metadata": {},
   "outputs": [
    {
     "data": {
      "text/plain": [
       "(3, 5, 12, 15, 0, 1, 5, 2)"
      ]
     },
     "execution_count": 48,
     "metadata": {},
     "output_type": "execute_result"
    }
   ],
   "source": [
    "### Merging Tuples\n",
    "car_pos = car_xpos + car_ypos\n",
    "car_pos"
   ]
  },
  {
   "cell_type": "markdown",
   "metadata": {},
   "source": [
    "### Sets"
   ]
  },
  {
   "cell_type": "markdown",
   "metadata": {},
   "source": [
    "Sets are collections which are unordered and unindexed. Repititions are not allowed in set structures and they are denoted by curly brackets $\\{ ... \\}$."
   ]
  },
  {
   "cell_type": "code",
   "execution_count": 41,
   "metadata": {},
   "outputs": [],
   "source": [
    "### Declaration\n",
    "bakery_A = {'bread', 'cracker', 'croissant', 'eclair', 'parfait','cannele', 'coffee','tea'}\n",
    "bakery_B = {'bread', 'croissant', 'donuts', 'cinnamon roll', 'cookies','coffee','tea'}\n",
    "bakery_C = {'bread', 'bread', 'bread'}"
   ]
  },
  {
   "cell_type": "code",
   "execution_count": 43,
   "metadata": {},
   "outputs": [
    {
     "name": "stdout",
     "output_type": "stream",
     "text": [
      "{'bread'}\n"
     ]
    }
   ],
   "source": [
    "print(bakery_C)"
   ]
  },
  {
   "cell_type": "code",
   "execution_count": 44,
   "metadata": {},
   "outputs": [
    {
     "ename": "TypeError",
     "evalue": "'set' object is not subscriptable",
     "output_type": "error",
     "traceback": [
      "\u001b[1;31m---------------------------------------------------------------------------\u001b[0m",
      "\u001b[1;31mTypeError\u001b[0m                                 Traceback (most recent call last)",
      "\u001b[1;32m<ipython-input-44-f0826fdf6907>\u001b[0m in \u001b[0;36m<module>\u001b[1;34m\u001b[0m\n\u001b[0;32m      1\u001b[0m \u001b[1;31m### Accessing Elements\u001b[0m\u001b[1;33m\u001b[0m\u001b[1;33m\u001b[0m\u001b[1;33m\u001b[0m\u001b[0m\n\u001b[1;32m----> 2\u001b[1;33m \u001b[0mbakery_A\u001b[0m\u001b[1;33m[\u001b[0m\u001b[1;36m0\u001b[0m\u001b[1;33m]\u001b[0m\u001b[1;33m\u001b[0m\u001b[1;33m\u001b[0m\u001b[0m\n\u001b[0m",
      "\u001b[1;31mTypeError\u001b[0m: 'set' object is not subscriptable"
     ]
    }
   ],
   "source": [
    "### Accessing Elements\n",
    "bakery_A[0]"
   ]
  },
  {
   "cell_type": "code",
   "execution_count": 81,
   "metadata": {},
   "outputs": [
    {
     "name": "stdout",
     "output_type": "stream",
     "text": [
      "parfait\n",
      "croissant\n",
      "cracker\n",
      "bread\n",
      "tea\n",
      "coffee\n",
      "eclair\n"
     ]
    }
   ],
   "source": [
    "### Multiple Access via Loops\n",
    "for product in bakery_A:\n",
    "    print(product)"
   ]
  },
  {
   "cell_type": "code",
   "execution_count": 51,
   "metadata": {},
   "outputs": [
    {
     "name": "stdout",
     "output_type": "stream",
     "text": [
      "{'parfait', 'croissant', 'cracker', 'bread', 'tea', 'coffee', 'cannele', 'eclair'}\n",
      "{'parfait', 'croissant', 'cracker', 'bread', 'tea', 'coffee', 'eclair'}\n"
     ]
    }
   ],
   "source": [
    "### Removing an Element\n",
    "print(bakery_A)\n",
    "bakery_A.remove('cannele')\n",
    "print(bakery_A)"
   ]
  },
  {
   "cell_type": "code",
   "execution_count": 52,
   "metadata": {},
   "outputs": [
    {
     "data": {
      "text/plain": [
       "False"
      ]
     },
     "execution_count": 52,
     "metadata": {},
     "output_type": "execute_result"
    }
   ],
   "source": [
    "### Membership\n",
    "# print('cannele' in bakery_A)\n",
    "### Subsets\n",
    "order = {'coffee', 'tea', 'donuts'}\n",
    "order.issubset(bakery_A)"
   ]
  },
  {
   "cell_type": "code",
   "execution_count": 53,
   "metadata": {},
   "outputs": [
    {
     "name": "stdout",
     "output_type": "stream",
     "text": [
      "{'parfait', 'croissant', 'cracker', 'bread', 'tea', 'coffee', 'eclair'}\n",
      "{'cookies', 'croissant', 'donuts', 'bread', 'tea', 'coffee', 'cinnamon roll'}\n"
     ]
    },
    {
     "data": {
      "text/plain": [
       "{'bread',\n",
       " 'cinnamon roll',\n",
       " 'coffee',\n",
       " 'cookies',\n",
       " 'cracker',\n",
       " 'croissant',\n",
       " 'donuts',\n",
       " 'eclair',\n",
       " 'parfait',\n",
       " 'tea'}"
      ]
     },
     "execution_count": 53,
     "metadata": {},
     "output_type": "execute_result"
    }
   ],
   "source": [
    "### Union\n",
    "print(bakery_A)\n",
    "print(bakery_B)\n",
    "baker_st = bakery_A.union(bakery_B)\n",
    "baker_st"
   ]
  },
  {
   "cell_type": "code",
   "execution_count": 54,
   "metadata": {},
   "outputs": [
    {
     "data": {
      "text/plain": [
       "{'bread', 'coffee', 'croissant', 'tea'}"
      ]
     },
     "execution_count": 54,
     "metadata": {},
     "output_type": "execute_result"
    }
   ],
   "source": [
    "### Intersection\n",
    "bakery_A.intersection(bakery_B)"
   ]
  },
  {
   "cell_type": "code",
   "execution_count": 55,
   "metadata": {},
   "outputs": [
    {
     "data": {
      "text/plain": [
       "{'cinnamon roll', 'cookies', 'donuts'}"
      ]
     },
     "execution_count": 55,
     "metadata": {},
     "output_type": "execute_result"
    }
   ],
   "source": [
    "### Difference\n",
    "### Unique elements that is in Bakery but not in Bakery B\n",
    "bakery_B.difference(bakery_A)"
   ]
  },
  {
   "cell_type": "markdown",
   "metadata": {},
   "source": [
    "### Dictionaries"
   ]
  },
  {
   "cell_type": "markdown",
   "metadata": {},
   "source": [
    "Dictionaries are collections which is unordered, changeable like sets but are indexed. Like sets, they are denoted witn $\\{...\\}$ but objects are characterized by <b>keys</b> and described using <b>values</b>."
   ]
  },
  {
   "cell_type": "code",
   "execution_count": 111,
   "metadata": {},
   "outputs": [],
   "source": [
    "### Declaration\n",
    "bakery_A_prices = {'bread' : 60, \n",
    "            'cracker': 15, \n",
    "            'croissant': 40, \n",
    "           }"
   ]
  },
  {
   "cell_type": "code",
   "execution_count": 112,
   "metadata": {},
   "outputs": [
    {
     "data": {
      "text/plain": [
       "60"
      ]
     },
     "execution_count": 112,
     "metadata": {},
     "output_type": "execute_result"
    }
   ],
   "source": [
    "## Accessing\n",
    "bakery_A_prices['bread']"
   ]
  },
  {
   "cell_type": "code",
   "execution_count": 58,
   "metadata": {},
   "outputs": [
    {
     "name": "stdout",
     "output_type": "stream",
     "text": [
      "bread\n",
      "cracker\n",
      "croissant\n"
     ]
    }
   ],
   "source": [
    "## Accessing via Loops\n",
    "for product in bakery_A_prices:\n",
    "    print(product)"
   ]
  },
  {
   "cell_type": "code",
   "execution_count": 59,
   "metadata": {},
   "outputs": [
    {
     "name": "stdout",
     "output_type": "stream",
     "text": [
      "60\n",
      "15\n",
      "40\n"
     ]
    }
   ],
   "source": [
    "for product in bakery_A_prices:\n",
    "    print(bakery_A_prices[product])"
   ]
  },
  {
   "cell_type": "code",
   "execution_count": 60,
   "metadata": {},
   "outputs": [
    {
     "name": "stdout",
     "output_type": "stream",
     "text": [
      "60\n",
      "15\n",
      "40\n"
     ]
    }
   ],
   "source": [
    "for price in bakery_A_prices.values():\n",
    "    print(price)"
   ]
  },
  {
   "cell_type": "code",
   "execution_count": 61,
   "metadata": {},
   "outputs": [
    {
     "name": "stdout",
     "output_type": "stream",
     "text": [
      "bread 60\n",
      "cracker 15\n",
      "croissant 40\n"
     ]
    }
   ],
   "source": [
    "for product, price in bakery_A_prices.items():\n",
    "    print(product, price)"
   ]
  },
  {
   "cell_type": "code",
   "execution_count": 62,
   "metadata": {},
   "outputs": [
    {
     "name": "stdout",
     "output_type": "stream",
     "text": [
      "60\n",
      "48.0\n"
     ]
    }
   ],
   "source": [
    "## Update / Modification\n",
    "print(bakery_A_prices['bread'])\n",
    "bakery_A_prices['bread'] *= 0.8\n",
    "print(bakery_A_prices['bread'])"
   ]
  },
  {
   "cell_type": "code",
   "execution_count": 63,
   "metadata": {},
   "outputs": [
    {
     "name": "stdout",
     "output_type": "stream",
     "text": [
      "{'bread': 48.0, 'cracker': 15, 'croissant': 40}\n",
      "{'bread': 48.0, 'cracker': 15, 'croissant': 40, 'coffee': 110}\n"
     ]
    }
   ],
   "source": [
    "## Adding Elements\n",
    "print(bakery_A_prices)\n",
    "bakery_A_prices['coffee'] = 110\n",
    "print(bakery_A_prices)"
   ]
  },
  {
   "cell_type": "code",
   "execution_count": 64,
   "metadata": {},
   "outputs": [
    {
     "name": "stdout",
     "output_type": "stream",
     "text": [
      "{'bread': 48.0, 'cracker': 15, 'croissant': 40, 'coffee': 110}\n",
      "15\n",
      "{'bread': 48.0, 'croissant': 40, 'coffee': 110}\n"
     ]
    }
   ],
   "source": [
    "## Removing Elements\n",
    "print(bakery_A_prices)\n",
    "print(bakery_A_prices.pop('cracker'))\n",
    "print(bakery_A_prices)"
   ]
  },
  {
   "cell_type": "code",
   "execution_count": null,
   "metadata": {},
   "outputs": [],
   "source": []
  },
  {
   "cell_type": "code",
   "execution_count": null,
   "metadata": {},
   "outputs": [],
   "source": []
  },
  {
   "cell_type": "code",
   "execution_count": null,
   "metadata": {},
   "outputs": [],
   "source": []
  },
  {
   "cell_type": "code",
   "execution_count": null,
   "metadata": {},
   "outputs": [],
   "source": []
  },
  {
   "cell_type": "code",
   "execution_count": null,
   "metadata": {},
   "outputs": [],
   "source": []
  },
  {
   "cell_type": "code",
   "execution_count": null,
   "metadata": {},
   "outputs": [],
   "source": []
  },
  {
   "cell_type": "code",
   "execution_count": null,
   "metadata": {},
   "outputs": [],
   "source": []
  },
  {
   "cell_type": "markdown",
   "metadata": {},
   "source": [
    "## Dataset Operations"
   ]
  },
  {
   "cell_type": "markdown",
   "metadata": {},
   "source": [
    "For this section, we will use the sets below to practice some practical dataset operations."
   ]
  },
  {
   "cell_type": "code",
   "execution_count": 65,
   "metadata": {},
   "outputs": [],
   "source": [
    "cpe_courses = [\"Object-Oriented Programming\", \"Data Structures and Algorithms\", \"Discrete Mathematics\", \"Linear Algebra\",\n",
    "               \"Database Management\",\"Logic Circuits\", \"Computer Automation\",\"Digital Signals Processing\", \"Computer System Architecture and Organization\"]\n",
    "cs_courses = [\"Object-Oriented Programming\", \"Data Structures and Algorithms\", \"Automata\", \"Programming Language Theory\",\n",
    "             \"Discrete Mathematics\", \"Database Management\", \"Human Computer Interaction\", \"Information Security\", \"Information Management\"]"
   ]
  },
  {
   "cell_type": "code",
   "execution_count": 117,
   "metadata": {},
   "outputs": [],
   "source": [
    "## Examples\n",
    "fav_mangas = ['Tokyo Ghoul', 'Nisekoi','Black Clover', 'My Hero', 'Solo Leveling', 'One Punch', 'Tales of Demons and Gods']\n",
    "fav_animes= ['Tokyo Ghoul', 'One Punch', 'Konosuba', 'Your Name', 'Cell at work', 'My Hero', 'Hyouka', 'Clannad']"
   ]
  },
  {
   "cell_type": "code",
   "execution_count": 114,
   "metadata": {},
   "outputs": [],
   "source": [
    "cpe = set(cpe_courses)\n",
    "cs = set(cs_courses)"
   ]
  },
  {
   "cell_type": "code",
   "execution_count": 118,
   "metadata": {},
   "outputs": [],
   "source": [
    "## Conversion to a set\n",
    "mangas = set(fav_mangas)\n",
    "animes = set(fav_animes)"
   ]
  },
  {
   "cell_type": "markdown",
   "metadata": {},
   "source": [
    "### Inner Join"
   ]
  },
  {
   "cell_type": "code",
   "execution_count": 67,
   "metadata": {},
   "outputs": [
    {
     "data": {
      "text/plain": [
       "{'Data Structures and Algorithms',\n",
       " 'Database Management',\n",
       " 'Discrete Mathematics',\n",
       " 'Object-Oriented Programming'}"
      ]
     },
     "execution_count": 67,
     "metadata": {},
     "output_type": "execute_result"
    }
   ],
   "source": [
    "## Find the common things between the sets\n",
    "## Intersection\n",
    "common = cpe.intersection(cs)\n",
    "common ## inner join"
   ]
  },
  {
   "cell_type": "markdown",
   "metadata": {},
   "source": [
    "### Left Join"
   ]
  },
  {
   "cell_type": "code",
   "execution_count": 68,
   "metadata": {},
   "outputs": [
    {
     "data": {
      "text/plain": [
       "{'Computer Automation',\n",
       " 'Computer System Architecture and Organization',\n",
       " 'Data Structures and Algorithms',\n",
       " 'Database Management',\n",
       " 'Digital Signals Processing',\n",
       " 'Discrete Mathematics',\n",
       " 'Linear Algebra',\n",
       " 'Logic Circuits',\n",
       " 'Object-Oriented Programming'}"
      ]
     },
     "execution_count": 68,
     "metadata": {},
     "output_type": "execute_result"
    }
   ],
   "source": [
    "cpe_ljoin = common.union(cpe)\n",
    "cpe_ljoin"
   ]
  },
  {
   "cell_type": "markdown",
   "metadata": {},
   "source": [
    "### Right Join"
   ]
  },
  {
   "cell_type": "code",
   "execution_count": 69,
   "metadata": {},
   "outputs": [
    {
     "data": {
      "text/plain": [
       "{'Automata',\n",
       " 'Data Structures and Algorithms',\n",
       " 'Database Management',\n",
       " 'Discrete Mathematics',\n",
       " 'Human Computer Interaction',\n",
       " 'Information Management',\n",
       " 'Information Security',\n",
       " 'Object-Oriented Programming',\n",
       " 'Programming Language Theory'}"
      ]
     },
     "execution_count": 69,
     "metadata": {},
     "output_type": "execute_result"
    }
   ],
   "source": [
    "cs_rjoin = common.union(cs)\n",
    "cs_rjoin"
   ]
  },
  {
   "cell_type": "markdown",
   "metadata": {},
   "source": [
    "### Left Exclusive Join"
   ]
  },
  {
   "cell_type": "code",
   "execution_count": 70,
   "metadata": {},
   "outputs": [
    {
     "data": {
      "text/plain": [
       "{'Computer Automation',\n",
       " 'Computer System Architecture and Organization',\n",
       " 'Digital Signals Processing',\n",
       " 'Linear Algebra',\n",
       " 'Logic Circuits'}"
      ]
     },
     "execution_count": 70,
     "metadata": {},
     "output_type": "execute_result"
    }
   ],
   "source": [
    "cpe_exljoin = cpe.difference(cs)\n",
    "cpe_exljoin"
   ]
  },
  {
   "cell_type": "markdown",
   "metadata": {},
   "source": [
    "### Right Exclusive Join"
   ]
  },
  {
   "cell_type": "code",
   "execution_count": 71,
   "metadata": {},
   "outputs": [
    {
     "data": {
      "text/plain": [
       "{'Automata',\n",
       " 'Human Computer Interaction',\n",
       " 'Information Management',\n",
       " 'Information Security',\n",
       " 'Programming Language Theory'}"
      ]
     },
     "execution_count": 71,
     "metadata": {},
     "output_type": "execute_result"
    }
   ],
   "source": [
    "cs_exrjoin = cs.difference(cpe)\n",
    "cs_exrjoin"
   ]
  },
  {
   "cell_type": "markdown",
   "metadata": {},
   "source": [
    "### Full Outer Join"
   ]
  },
  {
   "cell_type": "code",
   "execution_count": 72,
   "metadata": {},
   "outputs": [
    {
     "data": {
      "text/plain": [
       "{'Automata',\n",
       " 'Computer Automation',\n",
       " 'Computer System Architecture and Organization',\n",
       " 'Data Structures and Algorithms',\n",
       " 'Database Management',\n",
       " 'Digital Signals Processing',\n",
       " 'Discrete Mathematics',\n",
       " 'Human Computer Interaction',\n",
       " 'Information Management',\n",
       " 'Information Security',\n",
       " 'Linear Algebra',\n",
       " 'Logic Circuits',\n",
       " 'Object-Oriented Programming',\n",
       " 'Programming Language Theory'}"
      ]
     },
     "execution_count": 72,
     "metadata": {},
     "output_type": "execute_result"
    }
   ],
   "source": [
    "## Union\n",
    "full_outer = cpe.union(cs)\n",
    "full_outer"
   ]
  },
  {
   "cell_type": "markdown",
   "metadata": {},
   "source": [
    "### Full Outer Exclusive Join"
   ]
  },
  {
   "cell_type": "code",
   "execution_count": 73,
   "metadata": {},
   "outputs": [
    {
     "data": {
      "text/plain": [
       "{'Automata',\n",
       " 'Computer Automation',\n",
       " 'Computer System Architecture and Organization',\n",
       " 'Digital Signals Processing',\n",
       " 'Human Computer Interaction',\n",
       " 'Information Management',\n",
       " 'Information Security',\n",
       " 'Linear Algebra',\n",
       " 'Logic Circuits',\n",
       " 'Programming Language Theory'}"
      ]
     },
     "execution_count": 73,
     "metadata": {},
     "output_type": "execute_result"
    }
   ],
   "source": [
    "## XOR\n",
    "full_xouter = (cpe.difference(cs)).union(cs.difference(cpe))\n",
    "full_xouter"
   ]
  },
  {
   "cell_type": "markdown",
   "metadata": {},
   "source": [
    "## Scratch Area"
   ]
  },
  {
   "cell_type": "markdown",
   "metadata": {},
   "source": [
    "You can use the area below to try your own code."
   ]
  },
  {
   "cell_type": "markdown",
   "metadata": {},
   "source": [
    "### Lists"
   ]
  },
  {
   "cell_type": "code",
   "execution_count": 8,
   "metadata": {},
   "outputs": [],
   "source": [
    "### Example Declaration\n",
    "Foods = ['Tempura', 'Curry', 'Karage', 'Tonkatsu', 'Ramen'] # Declaration of the list"
   ]
  },
  {
   "cell_type": "code",
   "execution_count": 10,
   "metadata": {},
   "outputs": [
    {
     "name": "stdout",
     "output_type": "stream",
     "text": [
      "First:  Tempura \n",
      "Last:  Ramen\n"
     ]
    }
   ],
   "source": [
    "### Example Single Access\n",
    "print('First: ',Foods[0], '\\nLast: ', Foods[-1] ) # 2 single access codes that shows\n",
    "                                                  # the first and last elements"
   ]
  },
  {
   "cell_type": "code",
   "execution_count": 12,
   "metadata": {},
   "outputs": [
    {
     "name": "stdout",
     "output_type": "stream",
     "text": [
      "first to last: ['Tempura', 'Curry', 'Karage', 'Tonkatsu', 'Ramen']\n",
      "last to first ['Ramen', 'Tonkatsu', 'Karage', 'Curry', 'Tempura']\n"
     ]
    }
   ],
   "source": [
    "### Example Multiple Access\n",
    "print('first to last:', Foods[0::]) # A multiple access code that prints the list from the first entry to the last   \n",
    "print('last to first', Foods[::-1])  #A multiple access code that prints the list from the last entry to the first"
   ]
  },
  {
   "cell_type": "code",
   "execution_count": 14,
   "metadata": {},
   "outputs": [
    {
     "name": "stdout",
     "output_type": "stream",
     "text": [
      "DELICOUS! Tempura\n",
      "DELICOUS! Curry\n",
      "DELICOUS! Karage\n",
      "DELICOUS! Tonkatsu\n",
      "DELICOUS! Ramen\n"
     ]
    }
   ],
   "source": [
    "### Example Multiple Access via Loops\n",
    "for food in Foods: # a loop that would countiously print the all the element in a list\n",
    "    print('DELICOUS!', food) # a code to indicate the food are delicous"
   ]
  },
  {
   "cell_type": "code",
   "execution_count": 16,
   "metadata": {},
   "outputs": [
    {
     "name": "stdout",
     "output_type": "stream",
     "text": [
      "Curry\n",
      "Ramen\n"
     ]
    }
   ],
   "source": [
    "### Example Multiple Access via Loops\n",
    "for i in range(len(Foods)): \n",
    "    if len(Foods[i]) ==  5: # Locates the element with 5 letters\n",
    "        print(Foods[i])"
   ]
  },
  {
   "cell_type": "code",
   "execution_count": 18,
   "metadata": {},
   "outputs": [
    {
     "name": "stdout",
     "output_type": "stream",
     "text": [
      "['Sushi', 'Curry', 'Shawarma', 'Tonkatsu', 'Ramen']\n"
     ]
    }
   ],
   "source": [
    "### Example Modifying Elements\n",
    "Foods[0] = 'Sushi' # changes the element in the zeroth place to Sushi\n",
    "Foods[2] = 'Shawarma' # changes the element in the 2nd place to Shawarma\n",
    "print(Foods)"
   ]
  },
  {
   "cell_type": "code",
   "execution_count": 20,
   "metadata": {},
   "outputs": [
    {
     "name": "stdout",
     "output_type": "stream",
     "text": [
      "['Sushi', 'Curry', 'Shawarma', 'Fried Tofu', 'Tonkatsu', 'Ramen']\n",
      "['Sushi', 'Curry', 'Shawarma', 'Fried Tofu', 'Tonkatsu', 'Ramen', 'Baked clams']\n"
     ]
    }
   ],
   "source": [
    "### Example Adding Elements\n",
    "Foods.insert(3,'Fried Tofu') # Adds the element in the place indicated\n",
    "print(Foods)\n",
    "\n",
    "Foods.append('Baked clams') # Adds the element at the end of the list\n",
    "print(Foods)"
   ]
  },
  {
   "cell_type": "code",
   "execution_count": 22,
   "metadata": {},
   "outputs": [
    {
     "name": "stdout",
     "output_type": "stream",
     "text": [
      "['Sushi', 'Curry', 'Shawarma', 'Tonkatsu', 'Ramen', 'Baked clams']\n",
      "['Sushi', 'Shawarma', 'Tonkatsu', 'Ramen', 'Baked clams']\n"
     ]
    },
    {
     "data": {
      "text/plain": [
       "[]"
      ]
     },
     "execution_count": 22,
     "metadata": {},
     "output_type": "execute_result"
    }
   ],
   "source": [
    "### Example Removing Elements\n",
    "Foods.pop(3) # removes the element that have the placement of 3\n",
    "print(Foods)\n",
    "\n",
    "Foods.remove('Curry') # removes the selected element in the list\n",
    "print(Foods)\n",
    "\n",
    "Foods.clear() # clears the list\n",
    "Foods\n"
   ]
  },
  {
   "cell_type": "markdown",
   "metadata": {},
   "source": [
    "### Tuples"
   ]
  },
  {
   "cell_type": "code",
   "execution_count": 24,
   "metadata": {},
   "outputs": [],
   "source": [
    "### Example Declaration\n",
    "fav_games = ('Stardew', 'Skyrim', 'C&C')\n",
    "nost_games = ('Harvest Moon', 'Zelda','Empire Earth' )"
   ]
  },
  {
   "cell_type": "code",
   "execution_count": 26,
   "metadata": {},
   "outputs": [
    {
     "data": {
      "text/plain": [
       "'Stardew'"
      ]
     },
     "execution_count": 26,
     "metadata": {},
     "output_type": "execute_result"
    }
   ],
   "source": [
    "### Example Single Access\n",
    "Farm = fav_games[0]\n",
    "Farm"
   ]
  },
  {
   "cell_type": "code",
   "execution_count": 30,
   "metadata": {},
   "outputs": [
    {
     "data": {
      "text/plain": [
       "('Stardew', 'Skyrim', 'C&C')"
      ]
     },
     "execution_count": 30,
     "metadata": {},
     "output_type": "execute_result"
    }
   ],
   "source": [
    "### Example Multiple Access\n",
    "fav_games[0::] #get elements from 0, onwards"
   ]
  },
  {
   "cell_type": "code",
   "execution_count": 32,
   "metadata": {},
   "outputs": [
    {
     "name": "stdout",
     "output_type": "stream",
     "text": [
      "Harvest Moon\n",
      "Zelda\n",
      "Empire Earth\n"
     ]
    }
   ],
   "source": [
    "### Example Multiple Access via Loops\n",
    "for game in nost_games: #prints all element indiviually in the tuple\n",
    "    print(game)"
   ]
  },
  {
   "cell_type": "code",
   "execution_count": 34,
   "metadata": {},
   "outputs": [
    {
     "name": "stdout",
     "output_type": "stream",
     "text": [
      "The games ('Stardew', 'Harvest Moon') have Farming in it.\n",
      "The games ('Skyrim', 'Zelda') have Adventure in it.\n",
      "The games ('C&C', 'Empire Earth') have Strategy in it.\n"
     ]
    }
   ],
   "source": [
    "game_cores= ('Farming', 'Adventure', 'Strategy')\n",
    "i = 0\n",
    "for game in zip(fav_games, nost_games):\n",
    "    print(f'The games {game} have {game_cores[i]} in it.')\n",
    "    i+=1"
   ]
  },
  {
   "cell_type": "code",
   "execution_count": 36,
   "metadata": {},
   "outputs": [
    {
     "name": "stdout",
     "output_type": "stream",
     "text": [
      "('Stardew', 'Harvest Moon')\n",
      "('Skyrim', 'Zelda')\n",
      "('C&C', 'Empire Earth')\n"
     ]
    }
   ],
   "source": [
    "## Second example\n",
    "for game in zip(fav_games, nost_games):\n",
    "    print(game)"
   ]
  },
  {
   "cell_type": "code",
   "execution_count": 45,
   "metadata": {},
   "outputs": [
    {
     "ename": "TypeError",
     "evalue": "'tuple' object does not support item assignment",
     "output_type": "error",
     "traceback": [
      "\u001b[1;31m---------------------------------------------------------------------------\u001b[0m",
      "\u001b[1;31mTypeError\u001b[0m                                 Traceback (most recent call last)",
      "\u001b[1;32m<ipython-input-45-8054991374af>\u001b[0m in \u001b[0;36m<module>\u001b[1;34m\u001b[0m\n\u001b[0;32m      1\u001b[0m \u001b[1;31m### Example Modifying Elements\u001b[0m\u001b[1;33m\u001b[0m\u001b[1;33m\u001b[0m\u001b[1;33m\u001b[0m\u001b[0m\n\u001b[1;32m----> 2\u001b[1;33m \u001b[0mfav_games\u001b[0m\u001b[1;33m[\u001b[0m\u001b[1;36m2\u001b[0m\u001b[1;33m]\u001b[0m \u001b[1;33m=\u001b[0m \u001b[1;34m'Genshin'\u001b[0m \u001b[1;31m# would occur an error because elements in a tuple can't be change\u001b[0m\u001b[1;33m\u001b[0m\u001b[1;33m\u001b[0m\u001b[0m\n\u001b[0m",
      "\u001b[1;31mTypeError\u001b[0m: 'tuple' object does not support item assignment"
     ]
    }
   ],
   "source": [
    "### Example Modifying Elements\n",
    "fav_games[2] = 'Genshin' # would occur an error because elements in a tuple can't be change"
   ]
  },
  {
   "cell_type": "code",
   "execution_count": 47,
   "metadata": {},
   "outputs": [
    {
     "ename": "TypeError",
     "evalue": "'tuple' object doesn't support item deletion",
     "output_type": "error",
     "traceback": [
      "\u001b[1;31m---------------------------------------------------------------------------\u001b[0m",
      "\u001b[1;31mTypeError\u001b[0m                                 Traceback (most recent call last)",
      "\u001b[1;32m<ipython-input-47-e6066508bd5b>\u001b[0m in \u001b[0;36m<module>\u001b[1;34m\u001b[0m\n\u001b[0;32m      1\u001b[0m \u001b[1;31m### Example Removing Elements\u001b[0m\u001b[1;33m\u001b[0m\u001b[1;33m\u001b[0m\u001b[1;33m\u001b[0m\u001b[0m\n\u001b[1;32m----> 2\u001b[1;33m \u001b[1;32mdel\u001b[0m \u001b[0mfav_games\u001b[0m\u001b[1;33m[\u001b[0m\u001b[1;36m1\u001b[0m\u001b[1;33m]\u001b[0m \u001b[1;31m# del was used because tuple have no removed or clear functions\u001b[0m\u001b[1;33m\u001b[0m\u001b[1;33m\u001b[0m\u001b[0m\n\u001b[0m\u001b[0;32m      3\u001b[0m                  \u001b[1;31m# Cannot be deleted because tuple doesn't allow alteration of elements\u001b[0m\u001b[1;33m\u001b[0m\u001b[1;33m\u001b[0m\u001b[1;33m\u001b[0m\u001b[0m\n",
      "\u001b[1;31mTypeError\u001b[0m: 'tuple' object doesn't support item deletion"
     ]
    }
   ],
   "source": [
    "### Example Removing Elements\n",
    "del fav_games[1] # del was used because tuple have no removed or clear functions\n",
    "                 # Cannot be deleted because tuple doesn't allow alteration of elements"
   ]
  },
  {
   "cell_type": "code",
   "execution_count": 40,
   "metadata": {},
   "outputs": [
    {
     "data": {
      "text/plain": [
       "('Stardew', 'Skyrim', 'C&C', 'Harvest Moon', 'Zelda', 'Empire Earth')"
      ]
     },
     "execution_count": 40,
     "metadata": {},
     "output_type": "execute_result"
    }
   ],
   "source": [
    "### Example Merging Tuples\n",
    "some_best_games = fav_games + nost_games\n",
    "some_best_games"
   ]
  },
  {
   "cell_type": "markdown",
   "metadata": {},
   "source": [
    "### Sets"
   ]
  },
  {
   "cell_type": "code",
   "execution_count": 103,
   "metadata": {},
   "outputs": [],
   "source": [
    "### Exaxmple Declaration\n",
    "manga_A = {'Isekai','Martial Arts', 'Magic', 'Fantasy', 'Adventure'}\n",
    "manga_B = {'Fantasy', 'Romance', 'Isekai', 'Slice of Life'}\n",
    "manga_C = {'Isekai', 'Isekai', 'Isekai', 'spinoff'}"
   ]
  },
  {
   "cell_type": "code",
   "execution_count": 76,
   "metadata": {},
   "outputs": [
    {
     "name": "stdout",
     "output_type": "stream",
     "text": [
      "{'spinoff', 'Isekai'}\n"
     ]
    }
   ],
   "source": [
    "#printing the set\n",
    "print(manga_C)"
   ]
  },
  {
   "cell_type": "code",
   "execution_count": 77,
   "metadata": {},
   "outputs": [
    {
     "ename": "TypeError",
     "evalue": "'set' object is not subscriptable",
     "output_type": "error",
     "traceback": [
      "\u001b[1;31m---------------------------------------------------------------------------\u001b[0m",
      "\u001b[1;31mTypeError\u001b[0m                                 Traceback (most recent call last)",
      "\u001b[1;32m<ipython-input-77-4d7089c9ebe9>\u001b[0m in \u001b[0;36m<module>\u001b[1;34m\u001b[0m\n\u001b[0;32m      1\u001b[0m \u001b[1;31m### Example Single Access Elements\u001b[0m\u001b[1;33m\u001b[0m\u001b[1;33m\u001b[0m\u001b[1;33m\u001b[0m\u001b[0m\n\u001b[1;32m----> 2\u001b[1;33m \u001b[0mmanga_C\u001b[0m\u001b[1;33m[\u001b[0m\u001b[1;36m0\u001b[0m\u001b[1;33m]\u001b[0m\u001b[1;33m\u001b[0m\u001b[1;33m\u001b[0m\u001b[0m\n\u001b[0m",
      "\u001b[1;31mTypeError\u001b[0m: 'set' object is not subscriptable"
     ]
    }
   ],
   "source": [
    "### Example Single Access Elements\n",
    "manga_C[0] # Would result to an error because set can't be access trough their indices"
   ]
  },
  {
   "cell_type": "code",
   "execution_count": 83,
   "metadata": {
    "scrolled": true
   },
   "outputs": [
    {
     "name": "stdout",
     "output_type": "stream",
     "text": [
      "Genres: \n",
      "Adventure\n",
      "Fantasy\n",
      "Isekai\n",
      "Martial Arts\n",
      "Magic\n"
     ]
    }
   ],
   "source": [
    "### Example Multiple Access via Loops\n",
    "print('Genres: ')\n",
    "for genre in manga_A:\n",
    "    print(genre)"
   ]
  },
  {
   "cell_type": "code",
   "execution_count": 94,
   "metadata": {},
   "outputs": [
    {
     "name": "stdout",
     "output_type": "stream",
     "text": [
      "{'Slice of Life', 'Fantasy', 'Romance', 'Isekai'}\n",
      "{'Slice of Life', 'Fantasy', 'Romance'}\n",
      "{'Fantasy', 'Romance'}\n"
     ]
    }
   ],
   "source": [
    "### Example of Removing an Element\n",
    "print(manga_B)\n",
    "manga_B.remove('Isekai') # removes the indiacted element\n",
    "print(manga_B)\n",
    "manga_B.pop() # removes the first element\n",
    "print(manga_B)"
   ]
  },
  {
   "cell_type": "code",
   "execution_count": 98,
   "metadata": {},
   "outputs": [
    {
     "name": "stdout",
     "output_type": "stream",
     "text": [
      "Is there a history genre in Manga B?\n",
      " False\n",
      "Are Isekai and Magic a genre of manga A?\n",
      " True\n"
     ]
    }
   ],
   "source": [
    "### Example Membership\n",
    "# checks if an element is within the given set \n",
    "print('Is there a history genre in Manga B?\\n','History' in manga_B)\n",
    "#checks if the subset is in the given set\n",
    "liked_genre = {'Isekai','Magic'}\n",
    "print('Are Isekai and Magic a genre of manga A?\\n',liked_genre.issubset(manga_A))"
   ]
  },
  {
   "cell_type": "code",
   "execution_count": 101,
   "metadata": {},
   "outputs": [
    {
     "name": "stdout",
     "output_type": "stream",
     "text": [
      "{'Adventure', 'Fantasy', 'Isekai', 'Martial Arts', 'Magic'}\n",
      "{'Fantasy', 'Romance'}\n",
      "{'Romance', 'Martial Arts', 'Magic', 'Adventure', 'Fantasy', 'Isekai'}\n"
     ]
    }
   ],
   "source": [
    "### Example Union\n",
    "print(manga_A)\n",
    "print(manga_B)\n",
    "mangas = manga_B.union(manga_A) # combines all elements in different sets\n",
    "print(mangas)"
   ]
  },
  {
   "cell_type": "code",
   "execution_count": 106,
   "metadata": {},
   "outputs": [
    {
     "data": {
      "text/plain": [
       "{'Fantasy', 'Isekai'}"
      ]
     },
     "execution_count": 106,
     "metadata": {},
     "output_type": "execute_result"
    }
   ],
   "source": [
    "### Example Intersection\n",
    "manga_A.intersection(manga_B) # gets all common elements in different sets"
   ]
  },
  {
   "cell_type": "code",
   "execution_count": 108,
   "metadata": {},
   "outputs": [
    {
     "data": {
      "text/plain": [
       "{'Adventure', 'Magic', 'Martial Arts'}"
      ]
     },
     "execution_count": 108,
     "metadata": {},
     "output_type": "execute_result"
    }
   ],
   "source": [
    "### Example Difference\n",
    "manga_A.difference(manga_B, manga_C) # gets all element that is unique to manga_A alone"
   ]
  },
  {
   "cell_type": "markdown",
   "metadata": {},
   "source": [
    "### Dictionaries"
   ]
  },
  {
   "cell_type": "code",
   "execution_count": 161,
   "metadata": {},
   "outputs": [],
   "source": [
    "## Declaration\n",
    "Power_lvl = {\n",
    "    'Siatama': 99999,\n",
    "    'Goku': 9001,\n",
    "    'Subaru': 4514\n",
    "}"
   ]
  },
  {
   "cell_type": "code",
   "execution_count": 162,
   "metadata": {},
   "outputs": [
    {
     "data": {
      "text/plain": [
       "9001"
      ]
     },
     "execution_count": 162,
     "metadata": {},
     "output_type": "execute_result"
    }
   ],
   "source": [
    "## Accessing\n",
    "Power_lvl['Goku']"
   ]
  },
  {
   "cell_type": "code",
   "execution_count": 163,
   "metadata": {},
   "outputs": [
    {
     "name": "stdout",
     "output_type": "stream",
     "text": [
      "Siatama\n",
      "Goku\n",
      "Subaru\n"
     ]
    }
   ],
   "source": [
    "## getting all the anime character\n",
    "for charac in Power_lvl:\n",
    "    print(charac)"
   ]
  },
  {
   "cell_type": "code",
   "execution_count": 164,
   "metadata": {},
   "outputs": [
    {
     "name": "stdout",
     "output_type": "stream",
     "text": [
      "99999\n",
      "9001\n",
      "4514\n"
     ]
    }
   ],
   "source": [
    "# getting the power levels\n",
    "for charac in Power_lvl:\n",
    "    print(Power_lvl[charac])"
   ]
  },
  {
   "cell_type": "code",
   "execution_count": 165,
   "metadata": {},
   "outputs": [
    {
     "name": "stdout",
     "output_type": "stream",
     "text": [
      "99999\n",
      "9001\n",
      "4514\n"
     ]
    }
   ],
   "source": [
    "# getting the power levels with different method\n",
    "for power in Power_lvl.values():\n",
    "    print(power)"
   ]
  },
  {
   "cell_type": "code",
   "execution_count": 166,
   "metadata": {},
   "outputs": [
    {
     "name": "stdout",
     "output_type": "stream",
     "text": [
      "Siatama 99999\n",
      "Goku 9001\n",
      "Subaru 4514\n"
     ]
    }
   ],
   "source": [
    "## Gets all the value in the dictionaries\n",
    "for charac, power in Power_lvl.items():\n",
    "    print(charac, power)"
   ]
  },
  {
   "cell_type": "code",
   "execution_count": 167,
   "metadata": {},
   "outputs": [
    {
     "data": {
      "text/plain": [
       "{'Siatama': 99999, 'Goku': 9001, 'Subaru': 'Suffering'}"
      ]
     },
     "execution_count": 167,
     "metadata": {},
     "output_type": "execute_result"
    }
   ],
   "source": [
    "## Modify the elements\n",
    "Power_lvl['Subaru'] = 'Suffering'\n",
    "Power_lvl"
   ]
  },
  {
   "cell_type": "code",
   "execution_count": 168,
   "metadata": {},
   "outputs": [
    {
     "data": {
      "text/plain": [
       "{'Siatama': 99999,\n",
       " 'Goku': 9001,\n",
       " 'Subaru': 'Suffering',\n",
       " 'Forbidden One': 'INFINTE'}"
      ]
     },
     "execution_count": 168,
     "metadata": {},
     "output_type": "execute_result"
    }
   ],
   "source": [
    "## Adding an element\n",
    "Power_lvl['Forbidden One'] = 'INFINTE'\n",
    "Power_lvl"
   ]
  },
  {
   "cell_type": "code",
   "execution_count": 169,
   "metadata": {},
   "outputs": [
    {
     "name": "stdout",
     "output_type": "stream",
     "text": [
      "{'Siatama': 99999, 'Goku': 9001, 'Subaru': 'Suffering', 'Forbidden One': 'INFINTE'}\n",
      "{'Siatama': 99999, 'Goku': 9001, 'Forbidden One': 'INFINTE'}\n"
     ]
    }
   ],
   "source": [
    "## Removing an element\n",
    "print(Power_lvl)\n",
    "Power_lvl.pop('Subaru')\n",
    "print(Power_lvl)"
   ]
  },
  {
   "cell_type": "markdown",
   "metadata": {},
   "source": [
    "## Dataset Operations"
   ]
  },
  {
   "cell_type": "markdown",
   "metadata": {},
   "source": [
    "### Inner Join"
   ]
  },
  {
   "cell_type": "code",
   "execution_count": 120,
   "metadata": {},
   "outputs": [
    {
     "data": {
      "text/plain": [
       "{'My Hero', 'One Punch', 'Tokyo Ghoul'}"
      ]
     },
     "execution_count": 120,
     "metadata": {},
     "output_type": "execute_result"
    }
   ],
   "source": [
    "## Example of Inner Join/Intersection\n",
    "common_elem = mangas.intersection(animes)\n",
    "common_elem"
   ]
  },
  {
   "cell_type": "markdown",
   "metadata": {},
   "source": [
    "### Left Join"
   ]
  },
  {
   "cell_type": "code",
   "execution_count": 122,
   "metadata": {},
   "outputs": [
    {
     "data": {
      "text/plain": [
       "{'Black Clover',\n",
       " 'My Hero',\n",
       " 'Nisekoi',\n",
       " 'One Punch',\n",
       " 'Solo Leveling',\n",
       " 'Tales of Demons and Gods',\n",
       " 'Tokyo Ghoul'}"
      ]
     },
     "execution_count": 122,
     "metadata": {},
     "output_type": "execute_result"
    }
   ],
   "source": [
    "# Elements in the left set (MANGAS SET)\n",
    "manga_ljoin = common_elem.union(mangas)\n",
    "manga_ljoin"
   ]
  },
  {
   "cell_type": "markdown",
   "metadata": {},
   "source": [
    "### Right Join"
   ]
  },
  {
   "cell_type": "code",
   "execution_count": 124,
   "metadata": {},
   "outputs": [
    {
     "data": {
      "text/plain": [
       "{'Cell at work',\n",
       " 'Clannad',\n",
       " 'Hyouka',\n",
       " 'Konosuba',\n",
       " 'My Hero',\n",
       " 'One Punch',\n",
       " 'Tokyo Ghoul',\n",
       " 'Your Name'}"
      ]
     },
     "execution_count": 124,
     "metadata": {},
     "output_type": "execute_result"
    }
   ],
   "source": [
    "# Elements in the Right set (ANIMES SET)\n",
    "animes_rjoin = common_elem.union(animes)\n",
    "animes_rjoin"
   ]
  },
  {
   "cell_type": "markdown",
   "metadata": {},
   "source": [
    "### Left Exclusive Join"
   ]
  },
  {
   "cell_type": "code",
   "execution_count": 128,
   "metadata": {},
   "outputs": [
    {
     "name": "stdout",
     "output_type": "stream",
     "text": [
      "{'Tales of Demons and Gods', 'Solo Leveling', 'Black Clover', 'Nisekoi'}\n"
     ]
    },
    {
     "data": {
      "text/plain": [
       "{'Black Clover', 'Nisekoi', 'Solo Leveling', 'Tales of Demons and Gods'}"
      ]
     },
     "execution_count": 128,
     "metadata": {},
     "output_type": "execute_result"
    }
   ],
   "source": [
    "## Elements unique to the left set (MANGAS SET)\n",
    "manga_exljoin = mangas.difference(animes)\n",
    "print(manga_exljoin)\n",
    "# Another way of doin it\n",
    "manga_exljoin2 = mangas.difference(common_elem)\n",
    "manga_exljoin2"
   ]
  },
  {
   "cell_type": "markdown",
   "metadata": {},
   "source": [
    "### Right Exclusive Join"
   ]
  },
  {
   "cell_type": "code",
   "execution_count": 129,
   "metadata": {},
   "outputs": [
    {
     "name": "stdout",
     "output_type": "stream",
     "text": [
      "{'Konosuba', 'Your Name', 'Hyouka', 'Cell at work', 'Clannad'}\n"
     ]
    },
    {
     "data": {
      "text/plain": [
       "{'Cell at work', 'Clannad', 'Hyouka', 'Konosuba', 'Your Name'}"
      ]
     },
     "execution_count": 129,
     "metadata": {},
     "output_type": "execute_result"
    }
   ],
   "source": [
    "## Elements unique to the right set (ANIMES SET)\n",
    "anime_exljoin = animes.difference(mangas)\n",
    "print(anime_exljoin)\n",
    "# Another way of doin it\n",
    "anime_exljoin2 = animes.difference(common_elem)\n",
    "anime_exljoin2"
   ]
  },
  {
   "cell_type": "markdown",
   "metadata": {},
   "source": [
    "### Full Outer Join"
   ]
  },
  {
   "cell_type": "code",
   "execution_count": 133,
   "metadata": {},
   "outputs": [
    {
     "data": {
      "text/plain": [
       "{'Black Clover',\n",
       " 'Cell at work',\n",
       " 'Clannad',\n",
       " 'Hyouka',\n",
       " 'Konosuba',\n",
       " 'My Hero',\n",
       " 'Nisekoi',\n",
       " 'One Punch',\n",
       " 'Solo Leveling',\n",
       " 'Tales of Demons and Gods',\n",
       " 'Tokyo Ghoul',\n",
       " 'Your Name'}"
      ]
     },
     "execution_count": 133,
     "metadata": {},
     "output_type": "execute_result"
    }
   ],
   "source": [
    "# Full Outer Exclusive Join Example\n",
    " # Doesn't include the common elements\n",
    "ful_outer = mangas.union(animes)\n",
    "ful_outer"
   ]
  },
  {
   "cell_type": "markdown",
   "metadata": {},
   "source": [
    "### Full Outer  Exclusive Join"
   ]
  },
  {
   "cell_type": "code",
   "execution_count": null,
   "metadata": {},
   "outputs": [],
   "source": [
    "# Full Outer Exclusive Join Example\n",
    " # Doesn't include the common elements\n",
    "ful_xouter = (mangas.difference(animes)).union(animes.difference(mangas))\n",
    "ful_xouter"
   ]
  }
 ],
 "metadata": {
  "kernelspec": {
   "display_name": "Python 3",
   "language": "python",
   "name": "python3"
  },
  "language_info": {
   "codemirror_mode": {
    "name": "ipython",
    "version": 3
   },
   "file_extension": ".py",
   "mimetype": "text/x-python",
   "name": "python",
   "nbconvert_exporter": "python",
   "pygments_lexer": "ipython3",
   "version": "3.8.3"
  }
 },
 "nbformat": 4,
 "nbformat_minor": 4
}
