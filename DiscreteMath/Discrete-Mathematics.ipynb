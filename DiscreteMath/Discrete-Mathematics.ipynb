{
 "cells": [
  {
   "cell_type": "code",
   "execution_count": 5,
   "metadata": {},
   "outputs": [
    {
     "name": "stdout",
     "output_type": "stream",
     "text": [
      "Here is your order, Enjoy Your Meal!\n",
      "Receipt: True  Drinks: True  Fries: True  Sundae: True  CheeseBurger Delux: True\n"
     ]
    }
   ],
   "source": [
    "CB_Delux = True\n",
    "Sundae = False\n",
    "Fries = False\n",
    "Drinks = False\n",
    "Give_receipt = False\n",
    "if CB_Delux:\n",
    "    Drinks =True\n",
    "    Fries = True\n",
    "    Sundae = True\n",
    "    print(\"Here is your order, Enjoy Your Meal!\")\n",
    "    Give_receipt = True\n",
    "    print(\"Receipt:\",Give_receipt,\" Drinks:\",Drinks,\" Fries:\",Fries,\" Sundae:\",Sundae,\" CheeseBurger Delux:\",CB_Delux)\n",
    "\n",
    "\n",
    "\n"
   ]
  },
  {
   "cell_type": "code",
   "execution_count": 26,
   "metadata": {},
   "outputs": [
    {
     "name": "stdout",
     "output_type": "stream",
     "text": [
      "0\n",
      "25\n"
     ]
    }
   ],
   "source": [
    "def transfer_to_resource(reservoir,pool):\n",
    "    if pool <= 10 :\n",
    "        if reservoir > 20:\n",
    "            pool = reservoir\n",
    "\n",
    "transfer_to_resource(21,11)\n",
    "print (pool)\n",
    "print (reservoir)"
   ]
  },
  {
   "cell_type": "code",
   "execution_count": 28,
   "metadata": {},
   "outputs": [
    {
     "ename": "NameError",
     "evalue": "name 'pool1' is not defined",
     "output_type": "error",
     "traceback": [
      "\u001b[1;31m---------------------------------------------------------------------------\u001b[0m",
      "\u001b[1;31mNameError\u001b[0m                                 Traceback (most recent call last)",
      "\u001b[1;32m<ipython-input-28-1c430ec62456>\u001b[0m in \u001b[0;36m<module>\u001b[1;34m\u001b[0m\n\u001b[0;32m      3\u001b[0m         \u001b[0mpool1\u001b[0m \u001b[1;33m=\u001b[0m \u001b[0mreservoir1\u001b[0m\u001b[1;33m\u001b[0m\u001b[1;33m\u001b[0m\u001b[0m\n\u001b[0;32m      4\u001b[0m     \u001b[1;32mreturn\u001b[0m \u001b[0mpool\u001b[0m\u001b[1;33m\u001b[0m\u001b[1;33m\u001b[0m\u001b[0m\n\u001b[1;32m----> 5\u001b[1;33m \u001b[0mprint\u001b[0m \u001b[1;33m(\u001b[0m\u001b[0mpool1\u001b[0m\u001b[1;33m)\u001b[0m\u001b[1;33m\u001b[0m\u001b[1;33m\u001b[0m\u001b[0m\n\u001b[0m\u001b[0;32m      6\u001b[0m \u001b[1;33m\u001b[0m\u001b[0m\n\u001b[0;32m      7\u001b[0m \u001b[0mtransfer_to_resource\u001b[0m\u001b[1;33m(\u001b[0m\u001b[1;36m1\u001b[0m\u001b[1;33m,\u001b[0m\u001b[1;36m2\u001b[0m\u001b[1;33m)\u001b[0m\u001b[1;33m\u001b[0m\u001b[1;33m\u001b[0m\u001b[0m\n",
      "\u001b[1;31mNameError\u001b[0m: name 'pool1' is not defined"
     ]
    }
   ],
   "source": [
    "\n",
    "def transfer_to_resource(reservoir1,pool1):\n",
    "    if pool1 <= 10 and reservoir1 > 20:\n",
    "        pool1 = reservoir1\n",
    "    return pool\n",
    "print (pool1)\n",
    "\n",
    "transfer_to_resource(1,2)"
   ]
  },
  {
   "cell_type": "code",
   "execution_count": null,
   "metadata": {},
   "outputs": [],
   "source": []
  }
 ],
 "metadata": {
  "kernelspec": {
   "display_name": "Python 3",
   "language": "python",
   "name": "python3"
  },
  "language_info": {
   "codemirror_mode": {
    "name": "ipython",
    "version": 3
   },
   "file_extension": ".py",
   "mimetype": "text/x-python",
   "name": "python",
   "nbconvert_exporter": "python",
   "pygments_lexer": "ipython3",
   "version": "3.8.3"
  }
 },
 "nbformat": 4,
 "nbformat_minor": 4
}
