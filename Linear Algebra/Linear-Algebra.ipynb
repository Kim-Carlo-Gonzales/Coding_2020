{
 "cells": [
  {
   "cell_type": "markdown",
   "metadata": {},
   "source": [
    "## Linear Algebra (CpE210A) <br>\n",
    "\n",
    "### Laboratory 1: Getting acquainted with Python\n",
    "<br>Coded and submitted by:\n",
    "<br>Gonzales, Kim Carlo M.\n",
    "<br>Section: 58010\n",
    "<br>\n",
    "<br>Lab Exercises: 1"
   ]
  },
  {
   "cell_type": "markdown",
   "metadata": {},
   "source": [
    "## Graded Cell 1"
   ]
  },
  {
   "cell_type": "code",
   "execution_count": 1,
   "metadata": {},
   "outputs": [
    {
     "name": "stdout",
     "output_type": "stream",
     "text": [
      "Charmander is level 15 \n",
      "Pidgey is level 11 \n",
      "Sandhrew is level 18 \n",
      "Rattata is level 5 \n",
      "Abra is level 14\n"
     ]
    }
   ],
   "source": [
    "party = ['Charmander', 'Pidgey', 'Sandshrew', 'Rattata', 'Abra']\n",
    "Level = [15,11,18,5,14]\n",
    "print(\"Charmander is level 15 \\nPidgey is level 11 \\nSandhrew is level 18 \\nRattata is level 5 \\nAbra is level 14\")"
   ]
  },
  {
   "cell_type": "markdown",
   "metadata": {},
   "source": [
    "## Graded Cell 2"
   ]
  },
  {
   "cell_type": "code",
   "execution_count": 2,
   "metadata": {},
   "outputs": [
    {
     "name": "stdout",
     "output_type": "stream",
     "text": [
      "['Unown', 'Magikarp', 'Feebas']\n"
     ]
    }
   ],
   "source": [
    "reserves = [\n",
    "    ('Onix',10),\n",
    "    ('Slowpoke',18),\n",
    "    ('Dialga', 2),\n",
    "    ('Magikarp', 32),\n",
    "    ('Feebas', 22),\n",
    "    ('Swablu', 19),\n",
    "    ('Regigigas', 3),\n",
    "    ('Unown', 50)\n",
    "]\n",
    "reserves.sort(key = lambda reserves:reserves[1], reverse = True )\n",
    "candidates = [reserves[0][0], reserves[1][0], reserves[2][0]]\n",
    "print(candidates)"
   ]
  },
  {
   "cell_type": "markdown",
   "metadata": {},
   "source": [
    "## Graded Cell 3"
   ]
  },
  {
   "cell_type": "code",
   "execution_count": 3,
   "metadata": {},
   "outputs": [],
   "source": [
    "def call_party(party,candidates):\n",
    "    party2=['Charmander', 'Pidgey', 'Sandshrew', 'Rattata', 'Abra']\n",
    "    party3=['Charmander', 'Pidgey', 'Sandshrew', 'Rattata', 'Abra']\n",
    "    party.append(candidates[0])\n",
    "    party2.append(candidates[1])\n",
    "    party3.append(candidates[2])\n",
    "    suggested_parties = print('\\n',party,'\\n',party2,'\\n',party3,'\\n')\n",
    "    return suggested_parties"
   ]
  },
  {
   "cell_type": "code",
   "execution_count": 4,
   "metadata": {},
   "outputs": [
    {
     "name": "stdout",
     "output_type": "stream",
     "text": [
      "\n",
      " ['Charmander', 'Pidgey', 'Sandshrew', 'Rattata', 'Abra', 'Unown'] \n",
      " ['Charmander', 'Pidgey', 'Sandshrew', 'Rattata', 'Abra', 'Magikarp'] \n",
      " ['Charmander', 'Pidgey', 'Sandshrew', 'Rattata', 'Abra', 'Feebas'] \n",
      "\n"
     ]
    }
   ],
   "source": [
    "call_party(party,candidates)"
   ]
  },
  {
   "cell_type": "markdown",
   "metadata": {},
   "source": [
    "## Extra note\n",
    "Sir if you have some spare time. I'd like to make this code work but it keeps on returning the final moment of the loop and as if the first 2 appends didn't happend. I'd like to ask for help and your guidance if possible. Thank You po for reading, if ever na di po kayo pwede ok lang po, Sorry na din po for the inconvenience."
   ]
  },
  {
   "cell_type": "code",
   "execution_count": 5,
   "metadata": {},
   "outputs": [],
   "source": [
    "party_num = 5\n",
    "chance = 0\n",
    "i=0\n",
    "suggested_parties = []\n",
    "def call_party1(chance, i, party_num):\n",
    "    while chance != 3:\n",
    "        if party_num != 6:\n",
    "            party.append(candidates[i])\n",
    "            suggested_parties.append(party)\n",
    "            party_num += 1 \n",
    "            i += 1\n",
    "            party.remove(party[5])\n",
    "        party_num -= 1 \n",
    "        chance += 1\n",
    "    return suggested_parties"
   ]
  },
  {
   "cell_type": "code",
   "execution_count": 6,
   "metadata": {},
   "outputs": [
    {
     "name": "stdout",
     "output_type": "stream",
     "text": [
      "[['Charmander', 'Pidgey', 'Sandshrew', 'Rattata', 'Abra', 'Feebas'], ['Charmander', 'Pidgey', 'Sandshrew', 'Rattata', 'Abra', 'Feebas'], ['Charmander', 'Pidgey', 'Sandshrew', 'Rattata', 'Abra', 'Feebas']]\n"
     ]
    }
   ],
   "source": [
    "a = call_party1(chance, i, party_num)\n",
    "print (a)"
   ]
  }
 ],
 "metadata": {
  "kernelspec": {
   "display_name": "Python 3",
   "language": "python",
   "name": "python3"
  },
  "language_info": {
   "codemirror_mode": {
    "name": "ipython",
    "version": 3
   },
   "file_extension": ".py",
   "mimetype": "text/x-python",
   "name": "python",
   "nbconvert_exporter": "python",
   "pygments_lexer": "ipython3",
   "version": "3.8.3"
  }
 },
 "nbformat": 4,
 "nbformat_minor": 4
}
